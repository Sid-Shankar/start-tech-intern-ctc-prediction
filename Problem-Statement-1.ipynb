{
 "cells": [
  {
   "cell_type": "markdown",
   "id": "d9b5a5d3",
   "metadata": {},
   "source": [
    "# Import Libraries"
   ]
  },
  {
   "cell_type": "code",
   "execution_count": 1,
   "id": "0a2450b2",
   "metadata": {},
   "outputs": [],
   "source": [
    "import pandas as pd\n",
    "import numpy as np\n",
    "import seaborn as sns\n",
    "import matplotlib.pyplot as plt\n",
    "%matplotlib inline"
   ]
  },
  {
   "cell_type": "markdown",
   "id": "311213ad",
   "metadata": {},
   "source": [
    "# Check out the Train Data"
   ]
  },
  {
   "cell_type": "code",
   "execution_count": 2,
   "id": "7fdc90f6",
   "metadata": {},
   "outputs": [],
   "source": [
    "train_df=pd.read_excel(\"Data_file.xlsx\",header=2)"
   ]
  },
  {
   "cell_type": "code",
   "execution_count": 3,
   "id": "33fb03fa",
   "metadata": {},
   "outputs": [
    {
     "data": {
      "text/html": [
       "<div>\n",
       "<style scoped>\n",
       "    .dataframe tbody tr th:only-of-type {\n",
       "        vertical-align: middle;\n",
       "    }\n",
       "\n",
       "    .dataframe tbody tr th {\n",
       "        vertical-align: top;\n",
       "    }\n",
       "\n",
       "    .dataframe thead th {\n",
       "        text-align: right;\n",
       "    }\n",
       "</style>\n",
       "<table border=\"1\" class=\"dataframe\">\n",
       "  <thead>\n",
       "    <tr style=\"text-align: right;\">\n",
       "      <th></th>\n",
       "      <th>S.No.</th>\n",
       "      <th>College</th>\n",
       "      <th>Role</th>\n",
       "      <th>City type</th>\n",
       "      <th>Previous CTC</th>\n",
       "      <th>Previous job changes</th>\n",
       "      <th>Graduation marks</th>\n",
       "      <th>Exp (Months)</th>\n",
       "      <th>CTC</th>\n",
       "    </tr>\n",
       "  </thead>\n",
       "  <tbody>\n",
       "    <tr>\n",
       "      <th>0</th>\n",
       "      <td>1</td>\n",
       "      <td>Tier 1</td>\n",
       "      <td>Manager</td>\n",
       "      <td>Non-Metro</td>\n",
       "      <td>55523</td>\n",
       "      <td>3</td>\n",
       "      <td>66</td>\n",
       "      <td>19</td>\n",
       "      <td>71406.576531</td>\n",
       "    </tr>\n",
       "    <tr>\n",
       "      <th>1</th>\n",
       "      <td>2</td>\n",
       "      <td>Tier 2</td>\n",
       "      <td>Executive</td>\n",
       "      <td>Metro</td>\n",
       "      <td>57081</td>\n",
       "      <td>1</td>\n",
       "      <td>84</td>\n",
       "      <td>18</td>\n",
       "      <td>68005.870631</td>\n",
       "    </tr>\n",
       "    <tr>\n",
       "      <th>2</th>\n",
       "      <td>3</td>\n",
       "      <td>Tier 2</td>\n",
       "      <td>Executive</td>\n",
       "      <td>Metro</td>\n",
       "      <td>60347</td>\n",
       "      <td>2</td>\n",
       "      <td>52</td>\n",
       "      <td>28</td>\n",
       "      <td>76764.020277</td>\n",
       "    </tr>\n",
       "    <tr>\n",
       "      <th>3</th>\n",
       "      <td>4</td>\n",
       "      <td>Tier 3</td>\n",
       "      <td>Executive</td>\n",
       "      <td>Metro</td>\n",
       "      <td>49010</td>\n",
       "      <td>2</td>\n",
       "      <td>81</td>\n",
       "      <td>33</td>\n",
       "      <td>82092.386880</td>\n",
       "    </tr>\n",
       "    <tr>\n",
       "      <th>4</th>\n",
       "      <td>5</td>\n",
       "      <td>Tier 3</td>\n",
       "      <td>Executive</td>\n",
       "      <td>Metro</td>\n",
       "      <td>57879</td>\n",
       "      <td>4</td>\n",
       "      <td>74</td>\n",
       "      <td>32</td>\n",
       "      <td>73878.097729</td>\n",
       "    </tr>\n",
       "  </tbody>\n",
       "</table>\n",
       "</div>"
      ],
      "text/plain": [
       "   S.No. College       Role  City type  Previous CTC  Previous job changes  \\\n",
       "0      1  Tier 1    Manager  Non-Metro         55523                     3   \n",
       "1      2  Tier 2  Executive      Metro         57081                     1   \n",
       "2      3  Tier 2  Executive      Metro         60347                     2   \n",
       "3      4  Tier 3  Executive      Metro         49010                     2   \n",
       "4      5  Tier 3  Executive      Metro         57879                     4   \n",
       "\n",
       "   Graduation marks  Exp (Months)           CTC  \n",
       "0                66            19  71406.576531  \n",
       "1                84            18  68005.870631  \n",
       "2                52            28  76764.020277  \n",
       "3                81            33  82092.386880  \n",
       "4                74            32  73878.097729  "
      ]
     },
     "execution_count": 3,
     "metadata": {},
     "output_type": "execute_result"
    }
   ],
   "source": [
    "train_df.head()"
   ]
  },
  {
   "cell_type": "code",
   "execution_count": 4,
   "id": "a2aec6d4",
   "metadata": {},
   "outputs": [
    {
     "name": "stdout",
     "output_type": "stream",
     "text": [
      "<class 'pandas.core.frame.DataFrame'>\n",
      "RangeIndex: 1338 entries, 0 to 1337\n",
      "Data columns (total 9 columns):\n",
      " #   Column                Non-Null Count  Dtype  \n",
      "---  ------                --------------  -----  \n",
      " 0   S.No.                 1338 non-null   int64  \n",
      " 1   College               1338 non-null   object \n",
      " 2   Role                  1338 non-null   object \n",
      " 3   City type             1338 non-null   object \n",
      " 4   Previous CTC          1338 non-null   int64  \n",
      " 5   Previous job changes  1338 non-null   int64  \n",
      " 6   Graduation marks      1338 non-null   int64  \n",
      " 7   Exp (Months)          1338 non-null   int64  \n",
      " 8   CTC                   1338 non-null   float64\n",
      "dtypes: float64(1), int64(5), object(3)\n",
      "memory usage: 94.2+ KB\n"
     ]
    }
   ],
   "source": [
    "train_df.info()"
   ]
  },
  {
   "cell_type": "code",
   "execution_count": 5,
   "id": "e05c7507",
   "metadata": {},
   "outputs": [
    {
     "data": {
      "text/plain": [
       "(1338, 9)"
      ]
     },
     "execution_count": 5,
     "metadata": {},
     "output_type": "execute_result"
    }
   ],
   "source": [
    "train_df.shape"
   ]
  },
  {
   "cell_type": "code",
   "execution_count": null,
   "id": "0cf76970",
   "metadata": {},
   "outputs": [],
   "source": [
    "train_df=train_df.drop('S.No.', axis=1)\n",
    "train_df.head()"
   ]
  },
  {
   "cell_type": "markdown",
   "id": "869970a0",
   "metadata": {},
   "source": [
    "## Check for missing values"
   ]
  },
  {
   "cell_type": "code",
   "execution_count": null,
   "id": "f0bd137a",
   "metadata": {},
   "outputs": [],
   "source": [
    "train_df.isnull().sum()"
   ]
  },
  {
   "cell_type": "markdown",
   "id": "8363a61c",
   "metadata": {},
   "source": [
    "## Check for duplicate records"
   ]
  },
  {
   "cell_type": "code",
   "execution_count": null,
   "id": "4a81c876",
   "metadata": {},
   "outputs": [],
   "source": [
    "print(f'Duplicates in dataset: {train_df.duplicated().sum()},({np.round(100*train_df.duplicated().sum()/len(train_df),1)}%)')"
   ]
  },
  {
   "cell_type": "markdown",
   "id": "1cfc29f9",
   "metadata": {},
   "source": [
    "## Separate numerical and categorical variables"
   ]
  },
  {
   "cell_type": "code",
   "execution_count": null,
   "id": "64ab3ff6",
   "metadata": {},
   "outputs": [],
   "source": [
    "numerical=[]\n",
    "for col in train_df.columns:\n",
    "    if train_df[col].dtypes!='O':\n",
    "        numerical.append(col)\n",
    "print(numerical)"
   ]
  },
  {
   "cell_type": "code",
   "execution_count": null,
   "id": "5378cc02",
   "metadata": {},
   "outputs": [],
   "source": [
    "categorical=[]\n",
    "for col in train_df.columns:\n",
    "    if train_df[col].dtypes=='O':\n",
    "        categorical.append(col)\n",
    "print(categorical)"
   ]
  },
  {
   "cell_type": "markdown",
   "id": "33be8ede",
   "metadata": {},
   "source": [
    "# EDA"
   ]
  },
  {
   "cell_type": "code",
   "execution_count": null,
   "id": "1f6bcd25",
   "metadata": {},
   "outputs": [],
   "source": [
    "sns.set(style=\"whitegrid\")\n",
    "plt.figure(figsize=(8,5))\n",
    "total = float(len(train_df))\n",
    "ax = sns.countplot(x=\"College\", hue=\"College\", data=train_df)\n",
    "plt.title('% of new hires by College type', fontsize=20)\n",
    "for p in ax.patches:\n",
    "    percentage = '{:.1f}%'.format(100 * p.get_height()/total)\n",
    "    x = p.get_x() + p.get_width()\n",
    "    y = p.get_height()\n",
    "    ax.annotate(percentage, (x, y),ha='center')\n",
    "plt.show()"
   ]
  },
  {
   "cell_type": "code",
   "execution_count": null,
   "id": "cc68d74f",
   "metadata": {},
   "outputs": [],
   "source": [
    "sns.set(style=\"whitegrid\")\n",
    "plt.figure(figsize=(8,5))\n",
    "total = float(len(train_df))\n",
    "ax = sns.countplot(x=\"Role\", hue=\"Role\", data=train_df)\n",
    "plt.title('% of new hires by Role type', fontsize=20)\n",
    "for p in ax.patches:\n",
    "    percentage = '{:.1f}%'.format(100 * p.get_height()/total)\n",
    "    x = p.get_x() + p.get_width()\n",
    "    y = p.get_height()\n",
    "    ax.annotate(percentage, (x, y),ha='center')\n",
    "plt.show()"
   ]
  },
  {
   "cell_type": "code",
   "execution_count": null,
   "id": "aaa55aab",
   "metadata": {},
   "outputs": [],
   "source": [
    "sns.set(style=\"whitegrid\")\n",
    "plt.figure(figsize=(8,5))\n",
    "total = float(len(train_df))\n",
    "ax = sns.countplot(x=\"City type\", hue=\"City type\", data=train_df)\n",
    "plt.title('% of new hires by City type', fontsize=20)\n",
    "for p in ax.patches:\n",
    "    percentage = '{:.1f}%'.format(100 * p.get_height()/total)\n",
    "    x = p.get_x() + p.get_width()\n",
    "    y = p.get_height()\n",
    "    ax.annotate(percentage, (x, y),ha='center')\n",
    "plt.show()"
   ]
  },
  {
   "cell_type": "code",
   "execution_count": null,
   "id": "cb1d9e41",
   "metadata": {},
   "outputs": [],
   "source": [
    "sns.boxplot(x=train_df.College, y=train_data.CTC)"
   ]
  },
  {
   "cell_type": "code",
   "execution_count": null,
   "id": "b9601e1c",
   "metadata": {},
   "outputs": [],
   "source": [
    "sns.boxplot(x=train_df.Role, y=train_data.CTC)"
   ]
  },
  {
   "cell_type": "code",
   "execution_count": null,
   "id": "f7c04eaa",
   "metadata": {},
   "outputs": [],
   "source": [
    "sns.pairplot(train_df)"
   ]
  },
  {
   "cell_type": "markdown",
   "id": "a54de3b4",
   "metadata": {},
   "source": [
    "## Convert categorical variables to numerical"
   ]
  },
  {
   "cell_type": "code",
   "execution_count": null,
   "id": "bb5954a0",
   "metadata": {},
   "outputs": [],
   "source": [
    "train_df=pd.get_dummies(train_df, drop_first=True)"
   ]
  },
  {
   "cell_type": "code",
   "execution_count": null,
   "id": "8edc6237",
   "metadata": {},
   "outputs": [],
   "source": [
    "train_df.head()"
   ]
  },
  {
   "cell_type": "code",
   "execution_count": null,
   "id": "844ff0fc",
   "metadata": {},
   "outputs": [],
   "source": [
    "plt.figure(figsize=(12,10))\n",
    "sns.heatmap(train_df.corr() ,cmap='coolwarm', linecolor='white', annot=True)"
   ]
  },
  {
   "cell_type": "markdown",
   "id": "e0c1eeab",
   "metadata": {},
   "source": [
    "# Training a Linear Regression Model"
   ]
  },
  {
   "cell_type": "code",
   "execution_count": null,
   "id": "c0198a37",
   "metadata": {},
   "outputs": [],
   "source": [
    "from sklearn.linear_model import LinearRegression"
   ]
  },
  {
   "cell_type": "code",
   "execution_count": null,
   "id": "d2edb255",
   "metadata": {},
   "outputs": [],
   "source": [
    "X_train=train_df.drop('CTC',axis=1)\n",
    "y_train=train_df['CTC']"
   ]
  },
  {
   "cell_type": "code",
   "execution_count": null,
   "id": "83469625",
   "metadata": {},
   "outputs": [],
   "source": [
    "linearmodel=LinearRegression()\n",
    "linearmodel.fit(X_train, y_train)"
   ]
  },
  {
   "cell_type": "markdown",
   "id": "cd1f4a35",
   "metadata": {},
   "source": [
    "# Check out the Test Data"
   ]
  },
  {
   "cell_type": "code",
   "execution_count": null,
   "id": "31b6a3c1",
   "metadata": {},
   "outputs": [],
   "source": [
    "test_df=pd.read_excel(\"Test_data_file.xlsx\")"
   ]
  },
  {
   "cell_type": "code",
   "execution_count": null,
   "id": "db23660b",
   "metadata": {},
   "outputs": [],
   "source": [
    "test_df.head()"
   ]
  },
  {
   "cell_type": "code",
   "execution_count": null,
   "id": "a9997023",
   "metadata": {},
   "outputs": [],
   "source": [
    "test_df.info()"
   ]
  },
  {
   "cell_type": "code",
   "execution_count": null,
   "id": "6408dbc5",
   "metadata": {},
   "outputs": [],
   "source": [
    "test_df=test_df.iloc[:,:12]"
   ]
  },
  {
   "cell_type": "code",
   "execution_count": null,
   "id": "4660f418",
   "metadata": {},
   "outputs": [],
   "source": [
    "test_df.head()"
   ]
  },
  {
   "cell_type": "code",
   "execution_count": null,
   "id": "710dc396",
   "metadata": {},
   "outputs": [],
   "source": [
    "test_df=test_df[['College','Role','City type','previous CTC','previous job changes','Graduation marks','Exp','Actual CTC']]\n",
    "test_df.head()"
   ]
  },
  {
   "cell_type": "markdown",
   "id": "20c90dfb",
   "metadata": {},
   "source": [
    "## Convert categorical variables to numerical"
   ]
  },
  {
   "cell_type": "code",
   "execution_count": null,
   "id": "9c893606",
   "metadata": {},
   "outputs": [],
   "source": [
    "test_df=pd.get_dummies(test_df,drop_first=True)\n",
    "test_df.head()"
   ]
  },
  {
   "cell_type": "code",
   "execution_count": null,
   "id": "64038f0d",
   "metadata": {},
   "outputs": [],
   "source": [
    "test_df.info()"
   ]
  },
  {
   "cell_type": "code",
   "execution_count": null,
   "id": "79216527",
   "metadata": {},
   "outputs": [],
   "source": [
    "X_test=test_df.drop('Actual CTC',axis=1)\n",
    "y_test=test_df['Actual CTC']"
   ]
  },
  {
   "cell_type": "markdown",
   "id": "fe69f418",
   "metadata": {},
   "source": [
    "## Predictions from our Model"
   ]
  },
  {
   "cell_type": "code",
   "execution_count": null,
   "id": "1ce1cf53",
   "metadata": {},
   "outputs": [],
   "source": [
    "predictions=linearmodel.predict(X_test)"
   ]
  },
  {
   "cell_type": "markdown",
   "id": "47808b1b",
   "metadata": {},
   "source": [
    "# Model Evaluation"
   ]
  },
  {
   "cell_type": "code",
   "execution_count": null,
   "id": "fb68deff",
   "metadata": {},
   "outputs": [],
   "source": [
    "from sklearn.metrics import r2_score, mean_squared_error"
   ]
  },
  {
   "cell_type": "code",
   "execution_count": null,
   "id": "5df50cd9",
   "metadata": {},
   "outputs": [],
   "source": [
    "print(\"R2 score: \",r2_score(y_test,predictions))"
   ]
  },
  {
   "cell_type": "code",
   "execution_count": null,
   "id": "b75b7135",
   "metadata": {},
   "outputs": [],
   "source": [
    "print(\"Mean squared error: \", mean_squared_error(y_test,predictions))"
   ]
  },
  {
   "cell_type": "code",
   "execution_count": null,
   "id": "29a0989b",
   "metadata": {},
   "outputs": [],
   "source": [
    "result_df=pd.concat([test_df, pd.DataFrame(predictions, columns=[\"Predicted CTC\"])], axis=1)"
   ]
  },
  {
   "cell_type": "code",
   "execution_count": null,
   "id": "042f5599",
   "metadata": {},
   "outputs": [],
   "source": [
    "result_df=result_df[[\"previous CTC\", \"previous job changes\", \"Graduation marks\", \"Exp\", \"College_Tier 2\", \"College_Tier 3\"\n",
    "                    ,\"Role_Manager\", \"City type_Non-Metro\", \"Actual CTC\", \"Predicted CTC\"]]\n",
    "result_df.head()"
   ]
  }
 ],
 "metadata": {
  "kernelspec": {
   "display_name": "Python 3 (ipykernel)",
   "language": "python",
   "name": "python3"
  },
  "language_info": {
   "codemirror_mode": {
    "name": "ipython",
    "version": 3
   },
   "file_extension": ".py",
   "mimetype": "text/x-python",
   "name": "python",
   "nbconvert_exporter": "python",
   "pygments_lexer": "ipython3",
   "version": "3.9.7"
  }
 },
 "nbformat": 4,
 "nbformat_minor": 5
}
